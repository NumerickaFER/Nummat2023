{
 "cells": [
  {
   "cell_type": "markdown",
   "metadata": {},
   "source": [
    "# 1. Faktorizacija Choleskog"
   ]
  },
  {
   "cell_type": "markdown",
   "metadata": {},
   "source": [
    "Implementacija funkcije koja računa faktorizaciju Choleskog za simetričnu pozitivno definitnu matricu:"
   ]
  },
  {
   "cell_type": "code",
   "execution_count": 23,
   "metadata": {},
   "outputs": [],
   "source": [
    "import numpy as np\n",
    "from numpy import dot\n",
    "from math import sqrt\n",
    "\n",
    "def cholesky(A):\n",
    "    n = len(A)\n",
    "    for k in range(n):\n",
    "        A[k,k] = sqrt(A[k,k] - dot(A[k,0:k],A[k,0:k]))\n",
    "        for i in range(k+1,n):\n",
    "            A[i,k] = (A[i,k] - dot(A[i,0:k],A[k,0:k]))/A[k,k]\n",
    "    for k in range(1,n): A[0:k,k] = 0.0\n",
    "    return A"
   ]
  },
  {
   "cell_type": "markdown",
   "metadata": {},
   "source": [
    "Funkciju ćemo primijeniti na matrici $$\\begin{bmatrix} 1& 2& 1\\\\ 2& 5& 2\\\\ 1& 2& 10\\end{bmatrix}$$\n",
    "Kao izlaz dobivamo matricu čiji gornji trokut je matrica $U$ a elementi ispod glavne dijagonale su elementi matrice $L$"
   ]
  },
  {
   "cell_type": "code",
   "execution_count": 24,
   "metadata": {
    "scrolled": true
   },
   "outputs": [
    {
     "name": "stdout",
     "output_type": "stream",
     "text": [
      "A= [[1. 0. 0.]\n",
      " [2. 1. 0.]\n",
      " [1. 0. 3.]]\n"
     ]
    }
   ],
   "source": [
    "A=np.array([[1.0, 2.0, 1.0 ],[2.0, 5.0, 2.0], [1.0, 2.0, 10.0]])\n",
    "cholesky(A)\n",
    "print(\"A=\",A)\n",
    "\n"
   ]
  },
  {
   "cell_type": "markdown",
   "metadata": {},
   "source": [
    "# Dobivanje PLU faktorizacije pomoću Pythonove biblioteke NumPy i SciPy\n",
    "\n",
    "\n",
    "lu funkcija iz scipy.linalg paketa kao izlaz daje matrice $P$, $L$, $U$, tako da je $A=PLU$, dakle matrica $P$ koju daje ova funkcija je zapravo transponirana matrica $P$ koju smo uveli na predavanjima, jer nam je dobro poznato $P^TP=I$. Dakle imamo: \n",
    "$P^T A=LU$\n"
   ]
  },
  {
   "cell_type": "code",
   "execution_count": 43,
   "metadata": {},
   "outputs": [],
   "source": [
    "from scipy.linalg import lu"
   ]
  },
  {
   "cell_type": "code",
   "execution_count": 38,
   "metadata": {},
   "outputs": [],
   "source": [
    "A=np.array([[3.0, 17.0, 10.0 ],[2.0, 4.0, -2.0], [6.0, 18.0, -12.0]])"
   ]
  },
  {
   "cell_type": "code",
   "execution_count": 39,
   "metadata": {},
   "outputs": [],
   "source": [
    "P, L, U = lu(A)"
   ]
  },
  {
   "cell_type": "code",
   "execution_count": 45,
   "metadata": {},
   "outputs": [
    {
     "name": "stdout",
     "output_type": "stream",
     "text": [
      "P=\n",
      " [[0. 1. 0.]\n",
      " [0. 0. 1.]\n",
      " [1. 0. 0.]]\n",
      "L=\n",
      " [[ 1.          0.          0.        ]\n",
      " [ 0.5         1.          0.        ]\n",
      " [ 0.33333333 -0.25        1.        ]]\n",
      "U=\n",
      " [[  6.  18. -12.]\n",
      " [  0.   8.  16.]\n",
      " [  0.   0.   6.]]\n"
     ]
    }
   ],
   "source": [
    "print(\"P=\\n\", P)\n",
    "print(\"L=\\n\", L)\n",
    "print(\"U=\\n\", U)"
   ]
  },
  {
   "cell_type": "code",
   "execution_count": 46,
   "metadata": {},
   "outputs": [
    {
     "name": "stdout",
     "output_type": "stream",
     "text": [
      "Permutacijska matrica=\n",
      " [[0. 0. 1.]\n",
      " [1. 0. 0.]\n",
      " [0. 1. 0.]]\n"
     ]
    }
   ],
   "source": [
    "print(\"Permutacijska matrica=\\n\",np.transpose(P))"
   ]
  },
  {
   "cell_type": "code",
   "execution_count": null,
   "metadata": {},
   "outputs": [],
   "source": []
  }
 ],
 "metadata": {
  "kernelspec": {
   "display_name": "Python 3 (ipykernel)",
   "language": "python",
   "name": "python3"
  },
  "language_info": {
   "codemirror_mode": {
    "name": "ipython",
    "version": 3
   },
   "file_extension": ".py",
   "mimetype": "text/x-python",
   "name": "python",
   "nbconvert_exporter": "python",
   "pygments_lexer": "ipython3",
   "version": "3.9.12"
  }
 },
 "nbformat": 4,
 "nbformat_minor": 2
}
