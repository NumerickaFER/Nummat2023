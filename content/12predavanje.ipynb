{
 "cells": [
  {
   "cell_type": "markdown",
   "metadata": {},
   "source": [
    "# Rješavanje nelinearnih jednadžbi"
   ]
  },
  {
   "cell_type": "markdown",
   "metadata": {},
   "source": [
    "##  Metoda bisekcije"
   ]
  },
  {
   "cell_type": "code",
   "execution_count": 62,
   "metadata": {},
   "outputs": [],
   "source": [
    "from math import log,ceil\n",
    "\n",
    "def funkcija(x):\n",
    "    return x**2-2.0\n",
    "\n",
    "def bisekcija(f,a,b,zamijeni=1,tol=1.0e-10):\n",
    "    fa = f(a)\n",
    "    if fa == 0.0: \n",
    "        return a\n",
    "    fb = f(b)\n",
    "    if fb == 0.0: \n",
    "        return b\n",
    "    if fa*fb > 0.0: \n",
    "        print(\"Ne vrijedi f(a)f(b)<0\")\n",
    "        return\n",
    "    n = ceil(log(abs(b - a)/tol)/log(2.0))\n",
    "    print(\"n=\",n)\n",
    "    for i in range(n):\n",
    "        c = 0.5*(a + b); fc = f(c)\n",
    "        if (zamijeni == 1) and (abs(fc) > abs(fa)) \\\n",
    "                         and (abs(fc) > abs(fb)):\n",
    "            return None\n",
    "        if fc == 0.0: \n",
    "            return c\n",
    "        if fb*fc < 0.0: \n",
    "            a = c; fa = fc\n",
    "        else: \n",
    "            b = c; fb = fc\n",
    "    return (a + b)/2.0"
   ]
  },
  {
   "cell_type": "code",
   "execution_count": 59,
   "metadata": {},
   "outputs": [
    {
     "name": "stdout",
     "output_type": "stream",
     "text": [
      "n= 35\n"
     ]
    },
    {
     "data": {
      "text/plain": [
       "1.414213562355144"
      ]
     },
     "execution_count": 59,
     "metadata": {},
     "output_type": "execute_result"
    }
   ],
   "source": [
    "bisekcija(funkcija, 0,2)"
   ]
  },
  {
   "cell_type": "markdown",
   "metadata": {},
   "source": [
    "## Metoda jednostavnih iteracija"
   ]
  },
  {
   "cell_type": "markdown",
   "metadata": {},
   "source": [
    "Potražimo nultočku jednadžbe $x^2-3x+1$"
   ]
  },
  {
   "cell_type": "code",
   "execution_count": 63,
   "metadata": {},
   "outputs": [],
   "source": [
    "import matplotlib.pyplot as plt\n",
    "import numpy as np\n",
    "def varphi1(x):\n",
    "    return (x*x+1)/3.0\n",
    "\n",
    "def varphi2(x):\n",
    "    return 3.0-1.0/x\n",
    "\n",
    "\n",
    "def MJI(f, x0, Maxiter=15, tol=1.0e-10):\n",
    "    n=0\n",
    "    x = x0\n",
    "    while abs(x - f(x)) > eps:\n",
    "            print(n,x)\n",
    "            x = f(x)\n",
    "            n =n+1\n",
    "            if(n > Maxiter): \n",
    "                print(\"n>MaxIter\")\n",
    "                break\n",
    "    return x"
   ]
  },
  {
   "cell_type": "code",
   "execution_count": 61,
   "metadata": {},
   "outputs": [
    {
     "name": "stdout",
     "output_type": "stream",
     "text": [
      "0 1\n",
      "1 0.6666666666666666\n",
      "2 0.48148148148148145\n",
      "3 0.41060813900320076\n",
      "4 0.389533014605224\n",
      "5 0.3839119898224779\n",
      "6 0.3824628053098181\n",
      "7 0.3820925991484853\n",
      "8 0.3819982514413483\n",
      "9 0.3819742213680825\n",
      "10 0.38196810192991765\n",
      "11 0.381966543630648\n",
      "12 0.3819661468177146\n",
      "0 2\n",
      "1 1.6666666666666667\n",
      "2 1.2592592592592593\n",
      "3 0.8619112940100595\n",
      "4 0.5809636929140317\n",
      "5 0.4458396041614365\n",
      "6 0.39959098421294215\n",
      "7 0.3865576515547559\n",
      "8 0.38314227265850936\n",
      "9 0.38226600036597586\n",
      "10 0.3820424316786\n",
      "11 0.38198547320096593\n",
      "12 0.381970967245522\n",
      "13 0.38196727327282654\n",
      "14 0.3819663326171594\n",
      "0 3\n",
      "1 3.3333333333333335\n",
      "2 4.037037037037037\n",
      "3 5.76588934613626\n",
      "4 11.41515998396254\n",
      "5 43.768625819819896\n",
      "6 638.8975353851349\n",
      "7 136063.68690706659\n",
      "8 6171108965.248081\n",
      "9 1.2694195286988415e+19\n",
      "10 5.371419799473296e+37\n",
      "11 9.617383554057915e+74\n",
      "12 3.083135547528788e+149\n",
      "13 3.1685749348118803e+298\n"
     ]
    },
    {
     "data": {
      "text/plain": [
       "inf"
      ]
     },
     "execution_count": 61,
     "metadata": {},
     "output_type": "execute_result"
    }
   ],
   "source": [
    "eps = 10e-8\n",
    "MJI(varphi1, 1,15)\n",
    "MJI(varphi1, 2,15)\n",
    "MJI(varphi1, 3,15)"
   ]
  },
  {
   "cell_type": "code",
   "execution_count": 48,
   "metadata": {},
   "outputs": [
    {
     "name": "stdout",
     "output_type": "stream",
     "text": [
      "0 2\n",
      "1 2.5\n",
      "2 2.6\n",
      "3 2.6153846153846154\n",
      "4 2.6176470588235294\n",
      "5 2.6179775280898876\n",
      "6 2.6180257510729614\n",
      "7 2.6180327868852458\n",
      "8 2.618033813400125\n",
      "9 2.6180339631667064\n",
      "10 2.618033985017358\n",
      "0 3\n",
      "1 2.6666666666666665\n",
      "2 2.625\n",
      "3 2.619047619047619\n",
      "4 2.618181818181818\n",
      "5 2.6180555555555554\n",
      "6 2.618037135278515\n",
      "7 2.6180344478216817\n",
      "8 2.6180340557275543\n",
      "9 2.6180339985218035\n",
      "10 2.618033990175597\n"
     ]
    },
    {
     "data": {
      "text/plain": [
       "2.618033988957902"
      ]
     },
     "execution_count": 48,
     "metadata": {},
     "output_type": "execute_result"
    }
   ],
   "source": [
    "eps = 10e-10\n",
    "MJI(varphi2,2,15)\n",
    "MJI(varphi2,3,15)"
   ]
  },
  {
   "cell_type": "code",
   "execution_count": 51,
   "metadata": {},
   "outputs": [
    {
     "name": "stdout",
     "output_type": "stream",
     "text": [
      "0 0.5\n",
      "1 0.6065306597126334\n",
      "2 0.545239211892605\n",
      "3 0.5797030948780683\n",
      "4 0.5600646279389019\n",
      "5 0.5711721489772151\n",
      "6 0.5648629469803235\n",
      "7 0.5684380475700662\n",
      "8 0.5664094527469208\n",
      "9 0.5675596342622424\n",
      "10 0.5669072129354714\n",
      "11 0.5672771959707785\n",
      "12 0.5670673518537281\n",
      "13 0.5671863600876381\n",
      "14 0.5671188642569858\n",
      "15 0.5671571437076446\n",
      "n>MaxIter\n",
      "0 0.5\n",
      "1 0.5663110031972182\n",
      "2 0.5671431650348622\n",
      "0 0.5\n",
      "1 0.6756393646499359\n",
      "2 0.3478126785112021\n",
      "3 0.8553214091741074\n",
      "4 -0.15650595538316914\n",
      "5 0.9773264227477186\n",
      "6 -0.6197642518955804\n",
      "7 0.7137130874161464\n",
      "8 0.256626649129847\n",
      "9 0.9249206769105486\n",
      "10 -0.40742240554225306\n",
      "11 0.8636614202075393\n",
      "12 -0.1847958494743267\n",
      "13 0.9688201302439478\n",
      "14 -0.5838599569295302\n",
      "15 0.7417828828779736\n",
      "n>MaxIter\n"
     ]
    },
    {
     "data": {
      "text/plain": [
       "0.1842794222830968"
      ]
     },
     "execution_count": 51,
     "metadata": {},
     "output_type": "execute_result"
    }
   ],
   "source": [
    "eps = 10e-8\n",
    "def varphi1(x):\n",
    "    return np.exp(-x)\n",
    "\n",
    "def varphi2(x):\n",
    "    return (1+x)/(1+np.exp(x))\n",
    "\n",
    "def varphi3(x):\n",
    "    return x+1-x*np.exp(x)\n",
    "MJI(varphi1,0.5,15)\n",
    "MJI(varphi2,0.5,15)\n",
    "MJI(varphi3,0.5,15)"
   ]
  },
  {
   "cell_type": "code",
   "execution_count": 152,
   "metadata": {},
   "outputs": [],
   "source": [
    "import numpy as np\n",
    "import math\n",
    "import matplotlib.pyplot as plt\n",
    "\n",
    "def funkcija(x):\n",
    "    return x*x-2\n",
    "\n",
    "def derivacija(x):\n",
    "    return 2*x\n",
    "\n",
    "def Newton(f, df, x_0, tol=1.0e-10,x_star=1.0):\n",
    "    x_old =x_0\n",
    "    eps = 1.e-10\n",
    "    BrIter = 1\n",
    "    x_new = (x_old - f(x_old)/df(x_old))\n",
    "    print(\"x\" + str(BrIter) + \" =\", x_new)\n",
    "    x=np.array([x_0])\n",
    "    e=np.array([abs(x_0-x_star)])\n",
    "    x=np.append(x,x_new)\n",
    "    e=np.append(e,abs(x_new-x_star))\n",
    "    while(abs(x_new - x_old) > eps * abs(x_0)):\n",
    "        x_old = x_new\n",
    "        x_new = (x_old - f(x_old)/df(x_old))\n",
    "        BrIter+=1\n",
    "        print(\"x\" + str(BrIter) + \" =\", x_new)\n",
    "        x=np.append(x,x_new)\n",
    "        e=np.append(e,abs(x_new-x_star))\n",
    "    return x_new, x, e\n",
    "\n"
   ]
  },
  {
   "cell_type": "code",
   "execution_count": 153,
   "metadata": {},
   "outputs": [
    {
     "name": "stdout",
     "output_type": "stream",
     "text": [
      "x1 = 1.5\n",
      "x2 = 1.4166666666666667\n",
      "x3 = 1.4142156862745099\n",
      "x4 = 1.4142135623746899\n",
      "x5 = 1.4142135623730951\n"
     ]
    },
    {
     "data": {
      "text/plain": [
       "(1.4142135623730951,\n",
       " array([2.        , 1.5       , 1.41666667, 1.41421569, 1.41421356,\n",
       "        1.41421356]),\n",
       " array([5.85786438e-01, 8.57864376e-02, 2.45310429e-03, 2.12390141e-06,\n",
       "        1.59472435e-12, 0.00000000e+00]))"
      ]
     },
     "execution_count": 153,
     "metadata": {},
     "output_type": "execute_result"
    }
   ],
   "source": [
    "def funkcija(x):\n",
    "    return x*x-2\n",
    "\n",
    "def derivacija(x):\n",
    "    return 2*x\n",
    "\n",
    "Newton(funkcija, derivacija,2, tol=1.0e-10, x_star=np.sqrt(2))"
   ]
  },
  {
   "cell_type": "code",
   "execution_count": 140,
   "metadata": {},
   "outputs": [],
   "source": [
    "from scipy.optimize import root_scalar\n",
    "y = root_scalar(funkcija, x0=2, fprime=derivacija, method='newton')"
   ]
  },
  {
   "cell_type": "code",
   "execution_count": 141,
   "metadata": {},
   "outputs": [
    {
     "data": {
      "text/plain": [
       "      converged: True\n",
       "           flag: 'converged'\n",
       " function_calls: 10\n",
       "     iterations: 5\n",
       "           root: 1.4142135623730951"
      ]
     },
     "execution_count": 141,
     "metadata": {},
     "output_type": "execute_result"
    }
   ],
   "source": [
    "y"
   ]
  },
  {
   "cell_type": "code",
   "execution_count": 176,
   "metadata": {},
   "outputs": [
    {
     "name": "stdout",
     "output_type": "stream",
     "text": [
      "x1 = -1.3269230769230769\n",
      "x2 = -1.1016508087024928\n",
      "x3 = -0.9256764026033771\n",
      "x4 = -0.8164153166225413\n",
      "x5 = -0.7809851583063968\n",
      "x6 = -0.7781065698687246\n",
      "x7 = -0.7780895992626766\n",
      "x8 = -0.7780895986786011\n",
      "x9 = -0.7780895986786011\n",
      "x1 = 1.6806282722513088\n",
      "x2 = 1.4307389882390624\n",
      "x3 = 1.2549709561094364\n",
      "x4 = 1.1615384327733131\n",
      "x5 = 1.1363532741705054\n",
      "x6 = 1.134730528343629\n",
      "x7 = 1.1347241385002211\n",
      "x8 = 1.1347241384015194\n"
     ]
    },
    {
     "data": {
      "text/plain": [
       "(1.1347241384015194,\n",
       " array([2.        , 1.68062827, 1.43073899, 1.25497096, 1.16153843,\n",
       "        1.13635327, 1.13473053, 1.13472414, 1.13472414]),\n",
       " array([1.        , 0.68062827, 0.43073899, 0.25497096, 0.16153843,\n",
       "        0.13635327, 0.13473053, 0.13472414, 0.13472414]))"
      ]
     },
     "execution_count": 176,
     "metadata": {},
     "output_type": "execute_result"
    }
   ],
   "source": [
    "def funkcija2(x):\n",
    "    return x**6-x-1\n",
    "\n",
    "def derivacija2(x):\n",
    "    return 6*x**5-1\n",
    "\n",
    "Newton(funkcija2, derivacija2,0.5)\n",
    "\n",
    "Newton(funkcija2, derivacija2,2)"
   ]
  },
  {
   "cell_type": "code",
   "execution_count": 154,
   "metadata": {},
   "outputs": [
    {
     "name": "stdout",
     "output_type": "stream",
     "text": [
      "x1 = -1.3269230769230769\n",
      "x2 = -1.1016508087024928\n",
      "x3 = -0.9256764026033771\n",
      "x4 = -0.8164153166225413\n",
      "x5 = -0.7809851583063968\n",
      "x6 = -0.7781065698687246\n",
      "x7 = -0.7780895992626766\n",
      "x8 = -0.7780895986786011\n",
      "x9 = -0.7780895986786011\n"
     ]
    },
    {
     "data": {
      "text/plain": [
       "(-0.7780895986786011,\n",
       " array([ 0.5       , -1.32692308, -1.10165081, -0.9256764 , -0.81641532,\n",
       "        -0.78098516, -0.77810657, -0.7780896 , -0.7780896 , -0.7780896 ]),\n",
       " array([0.5       , 2.32692308, 2.10165081, 1.9256764 , 1.81641532,\n",
       "        1.78098516, 1.77810657, 1.7780896 , 1.7780896 , 1.7780896 ]))"
      ]
     },
     "execution_count": 154,
     "metadata": {},
     "output_type": "execute_result"
    }
   ],
   "source": []
  },
  {
   "cell_type": "code",
   "execution_count": 155,
   "metadata": {},
   "outputs": [
    {
     "name": "stdout",
     "output_type": "stream",
     "text": [
      "x1 = 1.6806282722513088\n",
      "x2 = 1.4307389882390624\n",
      "x3 = 1.2549709561094364\n",
      "x4 = 1.1615384327733131\n",
      "x5 = 1.1363532741705054\n",
      "x6 = 1.134730528343629\n",
      "x7 = 1.1347241385002211\n",
      "x8 = 1.1347241384015194\n"
     ]
    },
    {
     "data": {
      "text/plain": [
       "(1.1347241384015194,\n",
       " array([2.        , 1.68062827, 1.43073899, 1.25497096, 1.16153843,\n",
       "        1.13635327, 1.13473053, 1.13472414, 1.13472414]),\n",
       " array([1.        , 0.68062827, 0.43073899, 0.25497096, 0.16153843,\n",
       "        0.13635327, 0.13473053, 0.13472414, 0.13472414]))"
      ]
     },
     "execution_count": 155,
     "metadata": {},
     "output_type": "execute_result"
    }
   ],
   "source": [
    "Newton(funkcija2, derivacija2,2)"
   ]
  },
  {
   "cell_type": "code",
   "execution_count": 175,
   "metadata": {},
   "outputs": [
    {
     "name": "stdout",
     "output_type": "stream",
     "text": [
      "(1.1347241384015188+0j)\n",
      "(0.45105515860885603+1.0023645715871652j)\n",
      "(0.45105515860885603-1.0023645715871652j)\n",
      "(-0.6293724284703157+0.7357559529997771j)\n",
      "(-0.6293724284703157-0.7357559529997771j)\n",
      "(-0.7780895986786007+0j)\n"
     ]
    }
   ],
   "source": [
    "coeff = np.array([1, 0, 0, 0, 0, -1, -1])\n",
    "a=np.roots(coeff)\n",
    "for i in range(len(a)):\n",
    "    print(a[i])"
   ]
  },
  {
   "cell_type": "code",
   "execution_count": 177,
   "metadata": {},
   "outputs": [
    {
     "name": "stdout",
     "output_type": "stream",
     "text": [
      "x1 = -0.5707963267948966\n",
      "x2 = 0.1168599039989131\n",
      "x3 = -0.001061022117044716\n",
      "x4 = 7.963096044106416e-10\n",
      "x5 = 0.0\n",
      "x6 = 0.0\n",
      "x1 = -1.6940796005538195\n",
      "x2 = 2.321126961438388\n",
      "x3 = -5.1140878367775136\n",
      "x4 = 32.29568391421002\n",
      "x5 = -1575.3169508212043\n",
      "x6 = 3894976.0077608842\n",
      "x7 = -23830288973552.125\n",
      "x8 = 8.920280161123818e+26\n",
      "x9 = -1.2499045993657107e+54\n",
      "x10 = 2.4539946374984955e+108\n",
      "x11 = -9.459476350342202e+216\n",
      "x12 = inf\n",
      "x13 = nan\n"
     ]
    },
    {
     "name": "stderr",
     "output_type": "stream",
     "text": [
      "C:\\Anaconda3\\lib\\site-packages\\ipykernel_launcher.py:5: RuntimeWarning: overflow encountered in double_scalars\n",
      "  \"\"\"\n",
      "C:\\Anaconda3\\lib\\site-packages\\ipykernel_launcher.py:24: RuntimeWarning: divide by zero encountered in double_scalars\n",
      "C:\\Anaconda3\\lib\\site-packages\\ipykernel_launcher.py:24: RuntimeWarning: invalid value encountered in double_scalars\n"
     ]
    },
    {
     "data": {
      "text/plain": [
       "(nan, array([ 1.50000000e+000, -1.69407960e+000,  2.32112696e+000,\n",
       "        -5.11408784e+000,  3.22956839e+001, -1.57531695e+003,\n",
       "         3.89497601e+006, -2.38302890e+013,  8.92028016e+026,\n",
       "        -1.24990460e+054,  2.45399464e+108, -9.45947635e+216,\n",
       "                     inf,              nan]), array([5.00000000e-001, 2.69407960e+000, 1.32112696e+000, 6.11408784e+000,\n",
       "        3.12956839e+001, 1.57631695e+003, 3.89497501e+006, 2.38302890e+013,\n",
       "        8.92028016e+026, 1.24990460e+054, 2.45399464e+108, 9.45947635e+216,\n",
       "                    inf,             nan]))"
      ]
     },
     "execution_count": 177,
     "metadata": {},
     "output_type": "execute_result"
    }
   ],
   "source": [
    "def funkcija3(x):\n",
    "    return np.arctan(x)\n",
    "\n",
    "def derivacija3(x):\n",
    "    return 1/(1+x**2)\n",
    "Newton(funkcija3, derivacija3,1.0, tol=1.e-16)\n",
    "Newton(funkcija3, derivacija3,1.5, tol=1.e-16)"
   ]
  },
  {
   "cell_type": "code",
   "execution_count": 156,
   "metadata": {},
   "outputs": [
    {
     "name": "stdout",
     "output_type": "stream",
     "text": [
      "x1 = -0.5707963267948966\n",
      "x2 = 0.1168599039989131\n",
      "x3 = -0.001061022117044716\n",
      "x4 = 7.963096044106416e-10\n",
      "x5 = 0.0\n",
      "x6 = 0.0\n"
     ]
    },
    {
     "data": {
      "text/plain": [
       "(0.0,\n",
       " array([ 1.00000000e+00, -5.70796327e-01,  1.16859904e-01, -1.06102212e-03,\n",
       "         7.96309604e-10,  0.00000000e+00,  0.00000000e+00]),\n",
       " array([0.        , 1.57079633, 0.8831401 , 1.00106102, 1.        ,\n",
       "        1.        , 1.        ]))"
      ]
     },
     "execution_count": 156,
     "metadata": {},
     "output_type": "execute_result"
    }
   ],
   "source": [
    "Newton(funkcija3, derivacija3,1.0, tol=1.e-16)"
   ]
  },
  {
   "cell_type": "code",
   "execution_count": 151,
   "metadata": {},
   "outputs": [
    {
     "name": "stdout",
     "output_type": "stream",
     "text": [
      "x1 = -1.6940796005538195\n",
      "x2 = 2.321126961438388\n",
      "x3 = -5.1140878367775136\n",
      "x4 = 32.29568391421002\n",
      "x5 = -1575.3169508212043\n",
      "x6 = 3894976.0077608842\n",
      "x7 = -23830288973552.125\n",
      "x8 = 8.920280161123818e+26\n",
      "x9 = -1.2499045993657107e+54\n",
      "x10 = 2.4539946374984955e+108\n",
      "x11 = -9.459476350342202e+216\n",
      "x12 = inf\n",
      "x13 = nan\n"
     ]
    },
    {
     "name": "stderr",
     "output_type": "stream",
     "text": [
      "C:\\Anaconda3\\lib\\site-packages\\ipykernel_launcher.py:5: RuntimeWarning: overflow encountered in double_scalars\n",
      "  \"\"\"\n",
      "C:\\Anaconda3\\lib\\site-packages\\ipykernel_launcher.py:24: RuntimeWarning: divide by zero encountered in double_scalars\n",
      "C:\\Anaconda3\\lib\\site-packages\\ipykernel_launcher.py:24: RuntimeWarning: invalid value encountered in double_scalars\n"
     ]
    },
    {
     "data": {
      "text/plain": [
       "(nan, array([ 1.50000000e+000, -1.69407960e+000,  2.32112696e+000,\n",
       "        -5.11408784e+000,  3.22956839e+001, -1.57531695e+003,\n",
       "         3.89497601e+006, -2.38302890e+013,  8.92028016e+026,\n",
       "        -1.24990460e+054,  2.45399464e+108, -9.45947635e+216,\n",
       "                     inf,              nan]), array([5.00000000e-001, 2.69407960e+000, 1.32112696e+000, 6.11408784e+000,\n",
       "        3.12956839e+001, 1.57631695e+003, 3.89497501e+006, 2.38302890e+013,\n",
       "        8.92028016e+026, 1.24990460e+054, 2.45399464e+108, 9.45947635e+216,\n",
       "                    inf,             nan]))"
      ]
     },
     "execution_count": 151,
     "metadata": {},
     "output_type": "execute_result"
    }
   ],
   "source": [
    "newt(funkcija3, derivacija3,1.5, tol=1.e-16)"
   ]
  },
  {
   "cell_type": "markdown",
   "metadata": {},
   "source": [
    "# Newtonova metoda s promijenjenim korakom"
   ]
  },
  {
   "cell_type": "code",
   "execution_count": 174,
   "metadata": {},
   "outputs": [
    {
     "name": "stdout",
     "output_type": "stream",
     "text": [
      "Iter= 1 x= -8.57298688808465 alpha= 0.125\n",
      "Iter= 2 x= 4.972971445878592 alpha= 0.125\n",
      "Iter= 3 x= -3.854859757676751 alpha= 0.25\n",
      "Iter= 4 x= 1.3669409069874696 alpha= 0.25\n",
      "Iter= 5 x= -1.3271838200471255 alpha= 1.0\n",
      "Iter= 6 x= 1.2273334774823526 alpha= 1.0\n",
      "Iter= 7 x= -0.9960755661712501 alpha= 1.0\n",
      "Iter= 8 x= 0.564651627108276 alpha= 1.0\n",
      "Iter= 9 x= -0.11325732204034156 alpha= 1.0\n",
      "Iter= 10 x= 0.0009660466837660697 alpha= 1.0\n",
      "Iter= 11 x= -6.01039482506921e-10 alpha= 1.0\n",
      "Iter= 12 x= 0.0 alpha= 1.0\n"
     ]
    }
   ],
   "source": [
    "BrIterMax = 50;\n",
    "x_0 = 10.0;\n",
    "f_old = np.abs(np.arctan(x_0))\n",
    "eps = 1.e-10\n",
    "x_prev = x_0\n",
    "\n",
    "for BrIter in range(1,BrIterMax+1):\n",
    "    s = -(1+x_prev**2)*np.arctan(x_prev)\n",
    "    x = x_prev + s\n",
    "    f_new = np.abs(np.arctan(x))\n",
    "    alpha = 1.0\n",
    "    while(f_old <= f_new):\n",
    "        alpha=alpha/2\n",
    "        x = x_prev + alpha*s\n",
    "        f_new = np.abs(np.arctan(x))\n",
    "    print(\"Iter=\", BrIter, \"x=\",x, \"alpha=\", alpha)\n",
    "    BrIter = BrIter+1\n",
    "    f_old = f_new\n",
    "    if(abs(x-x_prev) < eps*abs(x_0)):\n",
    "        break;\n",
    "    x_prev=x\n"
   ]
  },
  {
   "cell_type": "code",
   "execution_count": null,
   "metadata": {},
   "outputs": [],
   "source": []
  },
  {
   "cell_type": "code",
   "execution_count": null,
   "metadata": {},
   "outputs": [],
   "source": []
  }
 ],
 "metadata": {
  "kernelspec": {
   "display_name": "Python 3 (ipykernel)",
   "language": "python",
   "name": "python3"
  },
  "language_info": {
   "codemirror_mode": {
    "name": "ipython",
    "version": 3
   },
   "file_extension": ".py",
   "mimetype": "text/x-python",
   "name": "python",
   "nbconvert_exporter": "python",
   "pygments_lexer": "ipython3",
   "version": "3.9.12"
  }
 },
 "nbformat": 4,
 "nbformat_minor": 2
}
